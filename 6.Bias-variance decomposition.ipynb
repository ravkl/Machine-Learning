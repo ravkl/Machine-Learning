{
 "cells": [
  {
   "cell_type": "markdown",
   "metadata": {},
   "source": [
    "# Машинное обучение, ФКН ВШЭ\n",
    "\n",
    "## Практическое задание 6. Разложение ошибки на смещение и разброс\n",
    "\n",
    "### Общая информация\n",
    "\n",
    "Дата выдачи: 20.11.2020\n",
    "\n",
    "Мягкий дедлайн: 00:59MSK 02.12.2019\n",
    "\n",
    "Жесткий дедлайн: 00:59MSK 07.12.2019\n",
    "\n",
    "### Оценивание и штрафы\n",
    "Каждая из задач имеет определенную «стоимость» (указана в скобках около задачи). Максимально допустимая оценка за работу — 10 баллов.\n",
    "\n",
    "Сдавать задание после указанного срока сдачи нельзя. При выставлении неполного балла за задание в связи с наличием ошибок на усмотрение проверяющего предусмотрена возможность исправить работу на указанных в ответном письме условиях.\n",
    "\n",
    "Задание выполняется самостоятельно. «Похожие» решения считаются плагиатом и все задействованные студенты (в том числе те, у кого списали) не могут получить за него больше 0 баллов (подробнее о плагиате см. на странице курса). Если вы нашли решение какого-то из заданий (или его часть) в открытом источнике, необходимо указать ссылку на этот источник в отдельном блоке в конце вашей работы (скорее всего вы будете не единственным, кто это нашел, поэтому чтобы исключить подозрение в плагиате, необходима ссылка на источник).\n",
    "\n",
    "Неэффективная реализация кода может негативно отразиться на оценке.\n",
    "\n",
    "### Формат сдачи\n",
    "Задания сдаются через систему anytask. Посылка должна содержать:\n",
    "* Ноутбук homework-practice-06-Username.ipynb\n",
    "\n",
    "Username — ваша фамилия и имя на латинице именно в таком порядке\n",
    "\n",
    "### О задании\n",
    "\n",
    "В этом задании вам предстоит воспользоваться возможностями бутстрапа для оценки смещения и разброса алгоритмов машинного обучения. Делать мы это будем на данных boston:"
   ]
  },
  {
   "cell_type": "code",
   "execution_count": 1,
   "metadata": {
    "ExecuteTime": {
     "end_time": "2020-12-01T17:42:09.218996Z",
     "start_time": "2020-12-01T17:42:08.583803Z"
    }
   },
   "outputs": [],
   "source": [
    "import numpy as np\n",
    "import pandas as pd\n",
    "from matplotlib import pyplot as plt\n",
    "%matplotlib inline"
   ]
  },
  {
   "cell_type": "code",
   "execution_count": 2,
   "metadata": {
    "ExecuteTime": {
     "end_time": "2020-12-01T17:42:09.847307Z",
     "start_time": "2020-12-01T17:42:09.252838Z"
    }
   },
   "outputs": [],
   "source": [
    "from sklearn.datasets import load_boston"
   ]
  },
  {
   "cell_type": "code",
   "execution_count": 3,
   "metadata": {
    "ExecuteTime": {
     "end_time": "2020-12-01T17:42:09.895471Z",
     "start_time": "2020-12-01T17:42:09.882177Z"
    }
   },
   "outputs": [],
   "source": [
    "boston = load_boston()"
   ]
  },
  {
   "cell_type": "code",
   "execution_count": 4,
   "metadata": {
    "ExecuteTime": {
     "end_time": "2020-12-01T17:42:09.941387Z",
     "start_time": "2020-12-01T17:42:09.927428Z"
    }
   },
   "outputs": [],
   "source": [
    "X = boston[\"data\"]\n",
    "y = boston[\"target\"]"
   ]
  },
  {
   "cell_type": "code",
   "execution_count": 5,
   "metadata": {
    "ExecuteTime": {
     "end_time": "2020-12-01T17:42:09.988262Z",
     "start_time": "2020-12-01T17:42:09.974265Z"
    }
   },
   "outputs": [
    {
     "data": {
      "text/plain": [
       "((506, 13), (506,))"
      ]
     },
     "execution_count": 5,
     "metadata": {},
     "output_type": "execute_result"
    }
   ],
   "source": [
    "X.shape, y.shape"
   ]
  },
  {
   "cell_type": "markdown",
   "metadata": {},
   "source": [
    "### Вычисление bias и variance с помощью бутстрапа\n",
    "На лекции была выведено следующая формула, показывающая, как можно представить ошибку алгоритма регрессии в виде суммы трех компонент:\n",
    "$$\n",
    "L(\\mu) = \n",
    "    \\mathbb{E}_{x, y}\\bigl[\\mathbb{E}_{X}\\bigl[ (y - \\mu(X)(x))^2 \\bigr]\\bigr] = \n",
    "$$\n",
    "$$\n",
    "    \\underbrace{\\mathbb{E}_{x, y}\\bigl[(y - \\mathbb{E}[y|x] )^2\\bigr]}_{\\text{шум}} + \\underbrace{\\mathbb{E}_{x}\\bigl[(\\mathbb{E}_{X}[\\mu(X)(x)] - \\mathbb{E}[y|x] )^2\\bigr]}_{\\text{смещение}} +\n",
    "    \\underbrace{\\mathbb{E}_{x}\\bigl[\\mathbb{E}_{X}\\bigl[(\\mu(X)(x) - \\mathbb{E}_{X}[\\mu(X)(x)] )^2\\bigr]\\bigr]}_{\\text{разброс}},\n",
    "$$\n",
    "* $\\mu(X)$ — алгоритм, обученный по выборке $X = \\{(x_1, y_1), \\dots (x_\\ell, y_\\ell)\\}$;\n",
    "* $\\mu(X)(x)$ — ответ алгоритма, обученного по выборке $X$, на объекте $x$;\n",
    "* $\\mathbb{E}_{X}$ — мат. ожидание по всем возможным выборкам;\n",
    "* $\\mathbb{E}_{X}[\\mu(X)(x)]$ — \"средний\" ответ алгоритма, обученного по всем возможным выборкам $X$, на объекте $x$.\n",
    "    \n",
    "С помощью этой формулы мы можем анализировать свойства алгоритма обучения модели $\\mu$, если зададим вероятностную модель порождения пар $p(x, y)$.\n",
    "\n",
    "В реальных задачах мы, конечно же, не знаем распределение на парах объект - правильный ответ. Однако у нас есть набор семплов из этого распределения (обучающую выборка), и мы можем использовать его, чтобы оценивать математические ожидания. Для оценки мат. ожиданий по выборкам мы будем пользоваться бутстрэпом - методом генерации \"новых\" выборок из одной с помощью выбора объектов с возвращением. Разберем несколько шагов на пути к оценке смещения и разброса.\n",
    "\n",
    "#### Приближенное вычисление интегралов\n",
    "На занятиях мы разбирали примеры аналитического вычисления смещения и разброса нескольких алгоритмов обучения. Для большинства моделей данных и алгоритмов обучения аналитически рассчитать математические ожидания в формулах не удастся. Однако мат. ожидания можно оценивать приближенно. Чтобы оценить математическое ожидание $\\mathbb{E}_{\\bar z} f(\\bar z)$ функции от многомерной случайной величины $\\bar z = (z_1, \\dots, z_d)$, $\\bar z \\sim p(\\bar z)$, можно сгенерировать выборку из распределения $p(\\bar z)$ и усреднить значение функции на элементах этой выборки:\n",
    "$$\\mathbb{E}_{\\bar z} f(z) = \\int f(\\bar z) p(\\bar z) d \\bar z \\approx \\frac 1 m \\sum_{i=1}^m f(\\bar z_i), \\, \\bar z_i \\sim p(\\bar z), i = 1, \\dots, m.$$\n",
    "\n",
    "Например, оценим $\\mathbb{E}_z z^2,$ $z \\sim \\mathcal{N}(\\mu=5, \\sigma=3)$ (из теории вероятностей мы знаем, что\n",
    "$\\mathbb{E}_z z^2 = \\sigma^2 + \\mu^2 = 34$):"
   ]
  },
  {
   "cell_type": "code",
   "execution_count": 6,
   "metadata": {
    "ExecuteTime": {
     "end_time": "2020-12-01T17:42:10.036145Z",
     "start_time": "2020-12-01T17:42:10.022136Z"
    }
   },
   "outputs": [
    {
     "data": {
      "text/plain": [
       "34.94615653341348"
      ]
     },
     "execution_count": 6,
     "metadata": {},
     "output_type": "execute_result"
    }
   ],
   "source": [
    "z = np.random.normal(loc=5, scale=3, size=1000)\n",
    "(z**2).mean()"
   ]
  },
  {
   "cell_type": "markdown",
   "metadata": {},
   "source": [
    "#### Оценивание $\\mathbb{E}_{x, y}$\n",
    "Оценить мат. ожидания по $x$ и по $x, y$, встречающиеся во всех трех компонентах разложения, несложно, потому что у нас есть выборка объектов из распределения данных $p(x, y)$:\n",
    "$$ \\mathbb{E}_{x} f(x) \\approx \\frac 1 N \\sum_{i=1}^N f(x_i), \\quad\n",
    "\\mathbb{E}_{x, y} f(x, y) \\approx \\frac 1 N \\sum_{i=1}^N f(x_i, y_i),$$\n",
    "где $N$ - число объектов в выборке, $\\{(x_i, y_i)\\}_{i=1}^N$ - сама выборка. \n",
    "\n",
    "#### Оценивание $\\mathbb{E}_X$ с помощью бутстрапа\n",
    "Чтобы оценить мат. ожидание по $X$, нам понадобится выборка из выборок:\n",
    "$$\\mathbb{E}_X f(X) \\approx \\frac 1 s \\sum_{j=1}^s f(X_j),$$\n",
    "где $X_j$ - $j$-я выборка. Чтобы их получить, мы можем воспользоваться бутстрапом - методом генерации выборок на основе выбора объектов с возвращением. Чтобы составить одну выборку, будем $N$ раз выбирать индекс объекта $i \\sim \\text{Uniform}(1 \\dots N)$ и добавлять $i$-ю пару (объект, целевая переменная) в выборку. В результате в каждой выборке могут появиться повторяющиеся объекты, а какие-то объекты могут вовсе не войти в некоторые выборки.\n",
    "\n",
    "#### Итоговый алгоритм оценки смещения и разброса алгоритма $a$\n",
    "1. Сгенерировать $s$ выборок $X_j$ методом бутстрапа.\n",
    "1. На каждой выборке $X_j$ обучить алгоритм $a_j$.\n",
    "1. Для каждой выборки $X_j$ определить множество объектов $T_j$, не вошедших в нее (out-of-bag). Вычислить предсказания алгоритма $a_j$ на объектах $T_j$. \n",
    "\n",
    "Поскольку у нас есть только один ответ для каждого объекта, мы будем считать шум равным 0, а $\\mathbb{E}[y|x]$ равным имеющемуся правильному ответу для объекта $x$. \n",
    "\n",
    "Итоговые оценки:\n",
    "* Смещение: для одного объекта - квадрат разности среднего предсказания и правильного ответа. Среднее предсказание берется только по тем алгоритмам $a_j$, для которых этот объект входил в out-of-bag выборку $T_j$. Для получения общего смещения выполнить усреденение смещений по объектам.\n",
    "* Разброс: для одного объекта - выборочная дисперсия предсказаний алгоритмов $a_j$, для которых этот объект входил в out-of-bag выборку $T_j$. Для получения общего разброса выполнить усреденение разбросов по объектам.\n",
    "* Ошибка $L$: усреднить квадраты разностей предсказания и правильного ответа по всем выполненным предсказаниям для всех объектов.\n",
    "\n",
    "В результате должно получиться, что ошибка приблизительно равна сумме смещения и разброса!\n",
    "\n",
    "Алгоритм также вкратце описан по [ссылке](https://web.engr.oregonstate.edu/~tgd/classes/534/slides/part9.pdf) (слайды 19-21).\n",
    "\n",
    "__1. (3 балла)__\n",
    "\n",
    "Реализуйте описанный алгоритм. Обратите внимание, что если объект не вошел ни в одну из out-of-bag выборок, учитывать его в вычислении итоговых величин не нужно. Как обычно, разрешается использовать только один цикл - по выборкам (от 0 до num_runs-1)."
   ]
  },
  {
   "cell_type": "code",
   "execution_count": 7,
   "metadata": {
    "ExecuteTime": {
     "end_time": "2020-12-01T17:42:10.679011Z",
     "start_time": "2020-12-01T17:42:10.668031Z"
    },
    "code_folding": []
   },
   "outputs": [],
   "source": [
    "from sklearn.utils import resample\n",
    "\n",
    "\n",
    "def compute_biase_variance(regressor, X, y, num_runs=1000):\n",
    "    \"\"\"\n",
    "    :param regressor: sklearn estimator with fit(...) and predict(...) method\n",
    "    :param X: numpy-array representing training set ob objects, shape [n_obj, n_feat]\n",
    "    :param y: numpy-array representing target for training objects, shape [n_obj]\n",
    "    :param num_runs: int, number of samples (s in the description of the algorithm)\n",
    "\n",
    "    :returns: bias (float), variance (float), error (float) \n",
    "    each value is computed using bootstrap\n",
    "    \"\"\"\n",
    "    cnt = np.zeros(len(X))\n",
    "    Bias = np.zeros(len(X))\n",
    "    L_err = np.zeros(0)\n",
    "    y_pred_sum = np.zeros(len(X))\n",
    "    y_pred_sum_squared = np.zeros(len(X))\n",
    "\n",
    "    for i in range(num_runs - 1):\n",
    "        idxs = np.random.randint(X.shape[0], size=X.shape[0])\n",
    "        out_of_bag = np.setdiff1d(np.arange(X.shape[0]), np.unique(idxs))\n",
    "\n",
    "        regressor.fit(X[idxs], y[idxs])\n",
    "\n",
    "        y_pred = regressor.predict(X[out_of_bag])\n",
    "        y_pred_sum_squared[out_of_bag] += y_pred * y_pred\n",
    "        y_pred_sum[out_of_bag] += y_pred\n",
    "        cnt[out_of_bag] += 1\n",
    "\n",
    "        L_err = np.concatenate([L_err, y_pred - y[out_of_bag]])\n",
    "\n",
    "    pred_means = y_pred_sum / cnt\n",
    "    Bias = ((pred_means - y) ** 2).mean()\n",
    "    variance = (y_pred_sum_squared / cnt - (y_pred_sum / cnt) ** 2).mean()\n",
    "    L = (L_err ** 2).mean()\n",
    "    return Bias, variance, L\n",
    "    "
   ]
  },
  {
   "cell_type": "markdown",
   "metadata": {},
   "source": [
    "__2. (0 баллов)__\n",
    "\n",
    "Оцените смещение, разброс и ошибку для трех алгоритмов с гиперпараметрами по умолчанию: линейная регрессия, решающее дерево, случайный лес."
   ]
  },
  {
   "cell_type": "code",
   "execution_count": 10,
   "metadata": {
    "ExecuteTime": {
     "end_time": "2020-12-01T18:05:57.923888Z",
     "start_time": "2020-12-01T18:02:37.944109Z"
    }
   },
   "outputs": [
    {
     "name": "stdout",
     "output_type": "stream",
     "text": [
      "LinearRegression\n",
      "Bias: 23.737027345735157\n",
      "Variance: 0.9333277695238944\n",
      "error 𝐿: 24.84617712491512\n",
      "DecisionTreeRegressor\n",
      "Bias: 10.456183338765225\n",
      "Variance: 13.108565732096334\n",
      "error 𝐿: 23.555962183263233\n",
      "RandomForestRegressor\n",
      "Bias: 10.710788033971845\n",
      "Variance: 2.270609789005622\n",
      "error 𝐿: 13.064556857144394\n"
     ]
    }
   ],
   "source": [
    "### your code here\n",
    "from sklearn.ensemble import RandomForestRegressor\n",
    "from sklearn.linear_model import LinearRegression\n",
    "from sklearn.tree import DecisionTreeRegressor\n",
    "from sklearn.ensemble import BaggingRegressor, GradientBoostingRegressor\n",
    "\n",
    "Bias, variance, L = compute_biase_variance(LinearRegression(), X, y)\n",
    "print('LinearRegression')\n",
    "print('Bias:', Bias)\n",
    "print('Variance:', variance)\n",
    "print('error 𝐿:', L)\n",
    "Bias, variance, L = compute_biase_variance(DecisionTreeRegressor(), X, y)\n",
    "print('DecisionTreeRegressor')\n",
    "print('Bias:', Bias)\n",
    "print('Variance:', variance)\n",
    "print('error 𝐿:', L)\n",
    "Bias, variance, L = compute_biase_variance(RandomForestRegressor(n_jobs=-1), X, y)\n",
    "print('RandomForestRegressor')\n",
    "print('Bias:', Bias)\n",
    "print('Variance:', variance)\n",
    "print('error 𝐿:', L)\n"
   ]
  },
  {
   "cell_type": "markdown",
   "metadata": {},
   "source": [
    "__3. (1 балл)__\n",
    "Проанализируйте полученный результат. Согласуются ли полученные результаты с теми, что мы обсуждали на занятиях (с комментарием)?\n",
    "\n",
    "__Your answer here:__\n",
    "Линейная регрессия:Если в данных наблюдается лин. зависимость, смещение у модели небольшое.Иначе, смещение большое. Разброс маленький.\n",
    "\n",
    "Решающее дерево: с гиперпараметрами по умолчанию дерево сильно переобучается под выборку, следовательно смещение получается малым. Разброс большой так, как модель чувствительна к выборке.\n",
    "\n",
    "Случайный лес:\n",
    "Благодаря композиции моделей снизился разброс, практически, при том же смещении\n"
   ]
  },
  {
   "cell_type": "markdown",
   "metadata": {},
   "source": [
    "__4. (1 балл)__\n",
    "Постройте бэггинг над всеми тремя моделями (линейная регрессия, решающее дерево, случайный лес). Вспомните обсуждение с лекции о том, во сколько раз в теории бэггинг уменьшает разброс базового алгоритма. Выполняется ли это в ваших экспериментах? Если нет, поясните, почему.\n",
    "\n",
    "__Your answer here:__\n",
    "В теории бэггинг уменьшает разброс в n раз, где n это кол-во базовых алгоритмов. На практике так не получается. В нашем алгоритме оценки ошибки и смещения у нас много предложений, не выполняющихся на наших данных, которых не так много."
   ]
  },
  {
   "cell_type": "code",
   "execution_count": 12,
   "metadata": {
    "ExecuteTime": {
     "end_time": "2020-12-01T18:22:50.718075Z",
     "start_time": "2020-12-01T18:07:48.752578Z"
    }
   },
   "outputs": [
    {
     "name": "stdout",
     "output_type": "stream",
     "text": [
      "LinearRegression\n",
      "Bias: 23.733006730521527\n",
      "Variance: 1.0433470681805943\n",
      "error 𝐿: 24.883628634790455\n",
      "DecisionTreeRegressor\n",
      "Bias: 10.671167208611504\n",
      "Variance: 3.692504166951597\n",
      "error 𝐿: 14.358659693058797\n",
      "RandomForestRegressor\n",
      "Bias: 11.5984546947944\n",
      "Variance: 1.3995891747290228\n",
      "error 𝐿: 13.009981868469419\n"
     ]
    }
   ],
   "source": [
    "Bias, variance, L = compute_biase_variance(BaggingRegressor(LinearRegression(),n_estimators = 8,random_state=777, n_jobs=-1), X, y)\n",
    "print('LinearRegression')\n",
    "print('Bias:', Bias)\n",
    "print('Variance:', variance)\n",
    "print('error 𝐿:', L)\n",
    "Bias, variance, L = compute_biase_variance(BaggingRegressor(DecisionTreeRegressor(), n_estimators = 8, random_state=777,n_jobs=-1), X, y)\n",
    "print('DecisionTreeRegressor')\n",
    "print('Bias:', Bias)\n",
    "print('Variance:', variance)\n",
    "print('error 𝐿:', L)\n",
    "Bias, variance, L = compute_biase_variance(BaggingRegressor(RandomForestRegressor(n_jobs=-1), n_estimators = 8, random_state=777,n_jobs=-1), X, y)\n",
    "print('RandomForestRegressor')\n",
    "print('Bias:', Bias)\n",
    "print('Variance:', variance)\n",
    "print('error 𝐿:', L)\n"
   ]
  },
  {
   "cell_type": "markdown",
   "metadata": {},
   "source": [
    "### Визуализация предсказаний базовых алгоритмов бэггинга\n",
    "\n",
    "В материалах лекций можно найти изображение, похожее на мишень - визуализация алгоритмов с разным смещением и разным разбросом. В центре \"мишени\" - правильный ответ, а \"попадания\" - предсказания алгоритмов, обученных по разным выборкам. Построим похожее изображение на наших данных для трех алгоритмов. Наши \"мишени\" будут одномерными, потому что мы решаем задачу одномерной регрессии.\n",
    "\n",
    "__5. (2 балла)__\n",
    "\n",
    "Реализуйте фукнцию plot_predictions. Она должна выполнять следующие действия:\n",
    "1. Случайно выбрать num_test_objects пар объект-целевая переменная из выборки X, y. Получится две выборки: маленькая X_test, y_test (выбранные тестовые объекты) и X_train, y_train (остальные объекты).\n",
    "1. Сгенерировать num_runs выборок методом бутстарапа из X_train, y_train. На каждой выборке обучить алгоритм regressor и сделать предсказания для X_test.\n",
    "1. Нарисовать scatter-график. По оси абсцисс - объекты тестовой выборки (номера от 0 до num_test_objects-1), по оси ординат - предсказания. В итоге получится num_test_objects столбиков с точками. Для каждого тестового объекта надо отметить одним цветом все предсказания для него, а также черным цветом отметить правильный ответ.\n",
    "1. Подпишите оси и название графика (аргумент title)."
   ]
  },
  {
   "cell_type": "code",
   "execution_count": 59,
   "metadata": {
    "ExecuteTime": {
     "end_time": "2020-12-01T20:00:42.424293Z",
     "start_time": "2020-12-01T20:00:42.410969Z"
    }
   },
   "outputs": [],
   "source": [
    "from sklearn.model_selection import train_test_split\n",
    "\n",
    "def plot_predictions(regressor, X, y, num_runs=100, num_test_objects=10, title=\"\", ax = None):\n",
    "    \"\"\"\n",
    "    plot graphics described above\n",
    "    \"\"\"\n",
    "    ### your code here\n",
    "\n",
    "    X_train, X_test, y_train, y_test = train_test_split(X, y, test_size=num_test_objects, random_state=69)\n",
    " \n",
    " \n",
    "    for i in range(num_runs):\n",
    "        idx = np.random.randint(0, len(X_train), len(X_train))\n",
    "        X_j = X_train[idx]\n",
    "        y_j = y_train[idx]\n",
    "        y_pred = regressor.fit(\n",
    "            X_j,\n",
    "            y_j\n",
    "        ).predict(X_test)\n",
    " \n",
    "        x_ = np.arange(num_test_objects)\n",
    "        y_ = y_pred\n",
    " \n",
    "        ax.scatter(x_, y_,\n",
    "                   c = range(len(X_test)))    #  цвет точек\n",
    " \n",
    "\n",
    "\n",
    "    ax.scatter(np.arange(num_test_objects), y_test, c = '#000000',label='true')\n",
    "    ax.set(title=title, xlabel='Objects', ylabel='Target', xticks=np.arange(num_test_objects))\n",
    "    ax.grid(alpha=0.4)\n",
    "    ax.legend()"
   ]
  },
  {
   "cell_type": "markdown",
   "metadata": {},
   "source": [
    "__6. (0 баллов)__\n",
    "\n",
    "Нарисуйте графики для линейной регрессии, решающего дерева и случайного леса. Нарисуйте три графика в строчку (это можно сделать с помощью plt.subplot) с одинаковой осью ординат (это важно для понимания масштаба разброса у разных алгоритмов):"
   ]
  },
  {
   "cell_type": "code",
   "execution_count": 60,
   "metadata": {
    "ExecuteTime": {
     "end_time": "2020-12-01T20:01:39.119217Z",
     "start_time": "2020-12-01T20:00:49.127206Z"
    }
   },
   "outputs": [
    {
     "data": {
      "image/png": "[encoded data removed]",
      "text/plain": [
       "<Figure size 1080x504 with 3 Axes>"
      ]
     },
     "metadata": {
      "needs_background": "light"
     },
     "output_type": "display_data"
    }
   ],
   "source": [
    "fig, axs = plt.subplots(1, 3, sharey=True, figsize=(15,7))\n",
    "\n",
    "plot_predictions(LinearRegression(), X, y, title='LinearRegression', ax=axs[0])\n",
    "plot_predictions(DecisionTreeRegressor(), X, y, title='DecisionTreeRegressor', ax=axs[1])\n",
    "plot_predictions(RandomForestRegressor(n_jobs=-1), X, y, title='RandomForestRegressor', ax=axs[2])"
   ]
  },
  {
   "cell_type": "markdown",
   "metadata": {},
   "source": [
    "__7. (1 балл)__\n",
    "\n",
    "Для каждого графика прокомментируйте, как он характеризует смещение и разброс соответствующего алгоритма. \n",
    "\n",
    "__Your answer here:__\n",
    "Смещение - положение цветных точек относительно черной точки(правильного ответа). разброс - положенние цветных точек относительно друг друга\n",
    "\n",
    "Линейная регрессия:  \n",
    "большое смещение, маленький разброс\n",
    "\n",
    "Решающее дерево:  \n",
    "Смещение небольшое, заметный разброс\n",
    "\n",
    "Случайный лес:  \n",
    "Смещение примерно такое как у дерева, но меньше разброс  "
   ]
  },
  {
   "cell_type": "markdown",
   "metadata": {},
   "source": [
    "### Изменение bias и variance при изменении гиперпараметров"
   ]
  },
  {
   "cell_type": "markdown",
   "metadata": {},
   "source": [
    "__8. (0 баллов)__\n",
    "\n",
    "Постройте графики зависимости смещения и разброса от гиперпараметров решающего дерева max_depth (от 1 до 10) и max_features (от 1 до X.shape[1]):\n",
    "Воспользуемся заметками с семинара"
   ]
  },
  {
   "cell_type": "code",
   "execution_count": 63,
   "metadata": {
    "ExecuteTime": {
     "end_time": "2020-12-01T20:10:30.792175Z",
     "start_time": "2020-12-01T20:08:21.759646Z"
    }
   },
   "outputs": [
    {
     "data": {
      "text/plain": [
       "<matplotlib.legend.Legend at 0x1b382914280>"
      ]
     },
     "execution_count": 63,
     "metadata": {},
     "output_type": "execute_result"
    },
    {
     "data": {
      "image/png": "[encoded data removed]",
      "text/plain": [
       "<Figure size 1080x360 with 2 Axes>"
      ]
     },
     "metadata": {
      "needs_background": "light"
     },
     "output_type": "display_data"
    }
   ],
   "source": [
    "depth_biases, depth_variances, features_biases, features_variances = [], [], [], []\n",
    "max_depths = np.arange(1, 11)\n",
    "max_features = np.arange(1, X.shape[1])\n",
    "for depth in max_depths:\n",
    "    bias, variance, L = compute_biase_variance(DecisionTreeRegressor(max_depth=depth), X, y)\n",
    "    depth_biases.append(bias)\n",
    "    depth_variances.append(variance)\n",
    "\n",
    "for features in max_features:\n",
    "    bias, variance, L = compute_biase_variance(DecisionTreeRegressor(max_features=features), X, y)\n",
    "    features_biases.append(bias)\n",
    "    features_variances.append(variance)\n",
    "\n",
    "fig, axs = plt.subplots(1, 2, sharey=True, figsize=(15, 5))\n",
    "\n",
    "axs[0].plot(max_depths, depth_biases, label='bias')\n",
    "axs[0].plot(max_depths, depth_variances, label='variance')\n",
    "axs[0].grid(alpha=0.4)\n",
    "axs[0].set(title='max_depth vs error', xlabel=\"tree's max_depth\", ylabel='error', xticks=max_depths)\n",
    "axs[0].legend()\n",
    "\n",
    "axs[1].plot(max_features, features_biases, label='bias')\n",
    "axs[1].plot(max_features, features_variances, label='variance')\n",
    "axs[1].grid(alpha=0.4)\n",
    "axs[1].set(title='max_features vs error', xlabel='max_features', ylabel='error', xticks=max_features)\n",
    "axs[1].legend()"
   ]
  },
  {
   "cell_type": "markdown",
   "metadata": {},
   "source": [
    "__9. (0 баллов)__\n",
    "\n",
    "Постройте графики зависимости смещения и разброса от n_estimators (по сетке 2**np.arange(1, 10)) для случайного леса и градиентного бустинга:"
   ]
  },
  {
   "cell_type": "code",
   "execution_count": null,
   "metadata": {
    "ExecuteTime": {
     "start_time": "2020-12-01T20:26:37.263Z"
    }
   },
   "outputs": [],
   "source": [
    "### your code here\n",
    "from sklearn.ensemble import GradientBoostingRegressor\n",
    "\n",
    "n_est = 2 ** np.arange(1, 10)\n",
    "forest_biases, forest_variances, boost_biases, boost_variances = [], [], [], []\n",
    "\n",
    "for n in n_est:\n",
    "    bias, variance, L = compute_biase_variance(RandomForestRegressor(n_estimators=n), X, y)\n",
    "    forest_biases.append(bias)\n",
    "    forest_variances.append(variance)\n",
    "    \n",
    "    bias, variance, L = compute_biase_variance(GradientBoostingRegressor(n_estimators=n), X, y)\n",
    "    boost_biases.append(bias)\n",
    "    boost_variances.append(variance)\n",
    "\n",
    "fig, axs = plt.subplots(1, 2, sharey=True, figsize=(15, 5))\n",
    "\n",
    "axs[0].plot(np.arange(1, 10), forest_biases, label='bias')\n",
    "axs[0].plot(np.arange(1, 10), forest_variances, label='variance')\n",
    "axs[0].grid(alpha=0.4)\n",
    "axs[0].set(title='n_estimators vs error (Random Forest)', xlabel='$\\log_2$ n_estimators', ylabel='error', xticks=np.arange(1, 10))\n",
    "axs[0].legend()\n",
    "\n",
    "axs[1].plot(np.arange(1, 10), boost_biases, label='bias')\n",
    "axs[1].plot(np.arange(1, 10), boost_variances, label='variance')\n",
    "axs[1].grid(alpha=0.4)\n",
    "axs[1].set(title='n_estimators vs error (Gradient Boosting)', xlabel='$\\log_2$ n_estimators', ylabel='error', xticks=np.arange(1, 10))\n",
    "axs[1].legend()"
   ]
  },
  {
   "cell_type": "markdown",
   "metadata": {},
   "source": [
    "__10. (2 балла)__\n",
    "\n",
    "Прокомментируйте графики (всего 4 графика): почему они имеют такой вид.\n",
    "\n",
    "__Your answer here:__\n",
    "\n",
    " графики(8 номер):\n",
    "\n",
    "График зависимости смещения и разброса от максимальной глубины дерева:\n",
    "\n",
    "При небольших значениях глубины модель обучается несильно, поэтому смещение довольно большое, при этом разброс маленький поскольку дерево не переобучено. С увеличением максимальной глубины : модель начинает переобучаться, увеличивается разброс, уменьшается смещение\n",
    "\n",
    "График зависимости смещения и разброса от максимального количества признаков дерева:\n",
    "\n",
    "При небольших значениях max_features растет разброс, так как в модели слишком много рандома и на новых объектах предсказания получаются нестабильными. При маленьких значениях этого гиперпараметра, недостаточно данных для обучения и увеличивается смещение. С увеличением числа признаков предсказания стабилизируются, разброс уменьшается. Смещение уменьшается, поскольку глубина дерева не ограничена и можно подстроиться под данные\n",
    "\n",
    "\n",
    "графики(9 номер):\n",
    "\n",
    "График зависимости смещения и разброса от количества моделей в RandomForestRegressor: \n",
    "\n",
    "Констатное смещение у случайного леса согласуется с лекциями. При увеличении числа моделей разброс уменьшается, но не очень быстро, поскольку данных немного и часто строятся очень похожие модели \n",
    "\n",
    "График зависимости смещения и разброса от количества моделей в GradientBoostingRegressor:\n",
    "\n",
    "Изначально используются только два дерева маленькой глубины, поэтому видим такое большое смещение. При росте числа моделей смещение сглаживается, поскольку модели компенсируют ошибки других моделей. Разброс небольшой, поскольку деревья маленькой глубины, а у них адекватная обобщающая способность. Но когда моделей становится много, в совокупности обобщающая способность чуть-чуть ухудшается и разброс незначительно повышается"
   ]
  },
  {
   "cell_type": "markdown",
   "metadata": {
    "ExecuteTime": {
     "end_time": "2020-12-01T20:06:06.346661Z",
     "start_time": "2020-12-01T20:06:06.326097Z"
    }
   },
   "source": [
    "2 кр и 7 дл на неделе\n",
    "\n",
    "<img src=\"https://i.ytimg.com/vi/Wkgyj5y3hso/maxresdefault.jpg\">"
   ]
  },
  {
   "cell_type": "code",
   "execution_count": null,
   "metadata": {},
   "outputs": [],
   "source": []
  }
 ],
 "metadata": {
  "kernelspec": {
   "display_name": "Python 2",
   "language": "python",
   "name": "python2"
  },
  "language_info": {
   "codemirror_mode": {
    "name": "ipython",
    "version": 2
   },
   "file_extension": ".py",
   "mimetype": "text/x-python",
   "name": "python",
   "nbconvert_exporter": "python",
   "pygments_lexer": "ipython2",
   "version": "2.7.6"
  },
  "nbTranslate": {
   "displayLangs": [
    "*"
   ],
   "hotkey": "alt-t",
   "langInMainMenu": true,
   "sourceLang": "en",
   "targetLang": "fr",
   "useGoogleTranslate": true
  },
  "toc": {
   "base_numbering": 1,
   "nav_menu": {},
   "number_sections": true,
   "sideBar": true,
   "skip_h1_title": true,
   "title_cell": "Table of Contents",
   "title_sidebar": "Contents",
   "toc_cell": false,
   "toc_position": {},
   "toc_section_display": true,
   "toc_window_display": false
  },
  "varInspector": {
   "cols": {
    "lenName": 16,
    "lenType": 16,
    "lenVar": 40
   },
   "kernels_config": {
    "python": {
     "delete_cmd_postfix": "",
     "delete_cmd_prefix": "del ",
     "library": "var_list.py",
     "varRefreshCmd": "print(var_dic_list())"
    },
    "r": {
     "delete_cmd_postfix": ") ",
     "delete_cmd_prefix": "rm(",
     "library": "var_list.r",
     "varRefreshCmd": "cat(var_dic_list()) "
    }
   },
   "types_to_exclude": [
    "module",
    "function",
    "builtin_function_or_method",
    "instance",
    "_Feature"
   ],
   "window_display": false
  }
 },
 "nbformat": 4,
 "nbformat_minor": 2
}
